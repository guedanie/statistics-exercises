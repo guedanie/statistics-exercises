{
 "cells": [
  {
   "cell_type": "code",
   "execution_count": 1,
   "metadata": {},
   "outputs": [],
   "source": [
    "from math import sqrt\n",
    "from scipy import stats\n",
    "from pydataset import data\n",
    "from datetime import datetime, timedelta\n",
    "\n",
    "%matplotlib inline\n",
    "import matplotlib.pyplot as plt\n",
    "import numpy as np\n",
    "import pandas as pd\n",
    "# import viz # curriculum visualization examples\n",
    "from math import sqrt"
   ]
  },
  {
   "cell_type": "markdown",
   "metadata": {},
   "source": [
    "# Hypothesis Testing\n",
    "\n",
    "For each of the following questions, formulate a null and alternative hypothesis (be as specific as you can be), then give an example of what a true positive, true negative, type I and type II errors would look like. Note that some of the questions are intentionally phrased in a vague way. It is your job to reword these as more precise questions that could be tested."
   ]
  },
  {
   "cell_type": "markdown",
   "metadata": {},
   "source": [
    "## Has the network latency gone up since we switched internet service providers?\n",
    "\n",
    "Many people have likely heard the term latency being used before but what is latency exactly? In terms of network latency, this can be defined by the time it takes for a request to travel from the sender to the receiver and for the receiver to process that request. In other words, the round trip time from the browser to the server. It is obviously desired for this time to remain as close to 0 as possible, however, there can be a few things at play preventing your website latency times to remain low.\n",
    "\n",
    "data sources: \n",
    "* Measure time it take to send data\n",
    "* Measure time it takes website to load\n",
    "* Measure the Rount Trip Time (RTT)\n",
    "* Measure the Time to First Byte (TTFB)\n",
    "    * $H_0$: The TTFB is the same since we switched internet service providers\n",
    "    * $H_a$: The TTFB is lower (closer to 0) since we switched internt service providers\n",
    "    \n",
    "- True Negative:\n",
    "    - high p- value\n",
    "    - fail to reject $H_0$\n",
    "    - old provider TTFB == new provider TTFB\n",
    "- False Negative:\n",
    "    - high p-value\n",
    "    - fail to reject $H_0$\n",
    "    - old provider TTFB == new provider TTFB\n",
    "    - but really we might be pinging only some of the routers, causing us to get false information\n",
    "- True Positive:\n",
    "    - low p-value\n",
    "    - reject $H_0$\n",
    "    - new provider TTFB == 0.5\n",
    "    - old provider TTFB == 1.0\n",
    "- False Positive:\n",
    "    - low p-value\n",
    "    - reject $H_0$\n",
    "    - new provider TTFB == 0.5\n",
    "    - old provider TTFB == 1.0\n",
    "    - we might be looking at a small sample, and when we look at the avg over multiple trials it actually turns out there is no difference."
   ]
  },
  {
   "cell_type": "markdown",
   "metadata": {},
   "source": [
    "## Is the website redesign any good?\n",
    "\n",
    "data sources:\n",
    "* customer servey\n",
    "* SEO optimization rankings\n",
    "* google trends\n",
    "* sales impact\n",
    "* click-through rates / number of visitors\n",
    "    * $H_0$: There has been no chance in the number of visitors since the website redesign \n",
    "    * $H_a$: There is a higher number of website vistors since the website redisgn\n",
    "    \n",
    "- True Negative: \n",
    "    * high p-value\n",
    "    * we accept the $H_0$\n",
    "    * website vistors before redisign == website vistors after redesign\n",
    "- False Negative:\n",
    "    * high p-value\n",
    "    * accept the $H_0$\n",
    "    * The data could include figures from other countries where the redesign hasn't taken place, and this is boosting the number of visitors prior to the redesign\n",
    "    * We might not be allowing enough time marketing to annouce the new redesigns\n",
    "- True Positive:\n",
    "    * Low p-value\n",
    "    * reject $H_0$\n",
    "    * vistors after website redesign -> 150,000\n",
    "    * visitors before website redesign -> 100,000\n",
    "- False positive: \n",
    "    * low p-value\n",
    "    * reject $H_0$\n",
    "    * vistors after website redesign -> 150,000\n",
    "    * visitors before website redesign -> 100,000\n",
    "    * Website visits could be boosted by a sales promotions, and once the promotion ends, visits decrease \n",
    "    \n",
    "\n"
   ]
  },
  {
   "cell_type": "markdown",
   "metadata": {},
   "source": [
    "## Is our television ad driving more sales?\n",
    "\n",
    "data sources:\n",
    "* sales before and after ad\n",
    "* google trends\n",
    "* store footfall\n",
    "* website visitors\n",
    "* recall survey\n",
    "    * $H_0$: There is no difference in survey responses between customers that recall the ad, versus customers that didn't recall the ad\n",
    "    * $H_a$: Customers that recall the ad were more likely to say they would buy the product\n",
    "    \n",
    "- True Negative: \n",
    "    * high p-value\n",
    "    * fail to reject $H_0$\n",
    "    * \\# of people willing to buy our product and recall ad == \\# of people willing to buy our product and don't recall ad\n",
    "    \n",
    "- False Negative:\n",
    "    * high p-value\n",
    "    * fail to reject $H_0$\n",
    "    * There could be observer bias, where customers are equally likely to say they will buy the product, but this might not necesarly reflect their actual behavior\n",
    "    \n",
    "- True positive:\n",
    "    * low p-value\n",
    "    * reject $H_0$\n",
    "    * \\# of customers willing to buy our product and recall ad == 20\n",
    "    * \\# of customers willing to buy our product and don't recall ad == 10\n",
    "    \n",
    "- False positive:\n",
    "    * low p-value\n",
    "    * reject $H_0$\n",
    "    * undercoverage biase - we might have only sample a portion of the population that that watches TV, and we are not considering what customers that don't watch TV are thinking"
   ]
  },
  {
   "cell_type": "markdown",
   "metadata": {},
   "source": [
    "# Exercise 2: T - Test"
   ]
  },
  {
   "cell_type": "markdown",
   "metadata": {},
   "source": [
    "## Question 1:\n",
    "\n",
    "Ace Realty wants to determine whether the average time it takes to sell homes is different for its two offices. A sample of 40 sales from office #1 revealed a mean of 90 days and a standard deviation of 15 days. A sample of 50 sales from office #2 revealed a mean of 100 days and a standard deviation of 20 days. Use a .05 level of significance."
   ]
  },
  {
   "cell_type": "markdown",
   "metadata": {},
   "source": [
    "* $H_0$: There is no difference in the average of time it takes to sell homes between the two offices in Ace Realty\n",
    "* $H_a$: There is a difference in the average of time it takes to sell homes between the two offices\n",
    "\n",
    "Data sources: \n",
    "   * Internal sales data"
   ]
  },
  {
   "cell_type": "code",
   "execution_count": 2,
   "metadata": {},
   "outputs": [
    {
     "data": {
      "text/plain": [
       "(-2.6252287036468456, 0.01020985244923939)"
      ]
     },
     "execution_count": 2,
     "metadata": {},
     "output_type": "execute_result"
    }
   ],
   "source": [
    "# Office 1:\n",
    "\n",
    "xbar1 = 90\n",
    "s1 = 15\n",
    "n1 = 40\n",
    "\n",
    "# office 2:\n",
    "\n",
    "xbar2 = 100\n",
    "s2 = 20\n",
    "n2 = 50\n",
    "\n",
    "degf = (n1 + n2) - 2\n",
    "\n",
    "s_p = sqrt(\n",
    "    ((n1 - 1) * s1**2 + (n2 - 1) * s2**2)\n",
    "    /\n",
    "    (n1 + n2 - 2)\n",
    ")\n",
    "\n",
    "t = (xbar1 - xbar2) / (s_p * sqrt(1 / n1 + 1 / n2))\n",
    "\n",
    "p = stats.t(degf).cdf(t) * 2\n",
    "\n",
    "t, p"
   ]
  },
  {
   "cell_type": "code",
   "execution_count": 3,
   "metadata": {},
   "outputs": [],
   "source": [
    "t, p = stats.ttest_ind_from_stats(xbar1, s1, n1, xbar2, s2, n2)"
   ]
  },
  {
   "cell_type": "code",
   "execution_count": 4,
   "metadata": {
    "scrolled": true
   },
   "outputs": [
    {
     "name": "stdout",
     "output_type": "stream",
     "text": [
      "\n",
      "Becasue p (0.010210) < alpha (0.05), we reject the null hypothesis, meaning that there is a significant difference in average time to sell a home between the two branches\n"
     ]
    }
   ],
   "source": [
    "alpha = 0.05\n",
    "\n",
    "print(f'''\n",
    "Becasue p ({p:.6f}) < alpha ({alpha}), we reject the null hypothesis, meaning that there is a significant difference in average time to sell a home between the two branches''')"
   ]
  },
  {
   "cell_type": "markdown",
   "metadata": {},
   "source": [
    "## Question 2.\n",
    "Load the mpg dataset and use it to answer the following questions:"
   ]
  },
  {
   "cell_type": "code",
   "execution_count": 5,
   "metadata": {},
   "outputs": [],
   "source": [
    "mpg = data('mpg')"
   ]
  },
  {
   "cell_type": "code",
   "execution_count": 6,
   "metadata": {},
   "outputs": [
    {
     "data": {
      "text/html": [
       "<div>\n",
       "<style scoped>\n",
       "    .dataframe tbody tr th:only-of-type {\n",
       "        vertical-align: middle;\n",
       "    }\n",
       "\n",
       "    .dataframe tbody tr th {\n",
       "        vertical-align: top;\n",
       "    }\n",
       "\n",
       "    .dataframe thead th {\n",
       "        text-align: right;\n",
       "    }\n",
       "</style>\n",
       "<table border=\"1\" class=\"dataframe\">\n",
       "  <thead>\n",
       "    <tr style=\"text-align: right;\">\n",
       "      <th></th>\n",
       "      <th>manufacturer</th>\n",
       "      <th>model</th>\n",
       "      <th>displ</th>\n",
       "      <th>year</th>\n",
       "      <th>cyl</th>\n",
       "      <th>trans</th>\n",
       "      <th>drv</th>\n",
       "      <th>cty</th>\n",
       "      <th>hwy</th>\n",
       "      <th>fl</th>\n",
       "      <th>class</th>\n",
       "    </tr>\n",
       "  </thead>\n",
       "  <tbody>\n",
       "    <tr>\n",
       "      <td>1</td>\n",
       "      <td>audi</td>\n",
       "      <td>a4</td>\n",
       "      <td>1.8</td>\n",
       "      <td>1999</td>\n",
       "      <td>4</td>\n",
       "      <td>auto(l5)</td>\n",
       "      <td>f</td>\n",
       "      <td>18</td>\n",
       "      <td>29</td>\n",
       "      <td>p</td>\n",
       "      <td>compact</td>\n",
       "    </tr>\n",
       "    <tr>\n",
       "      <td>2</td>\n",
       "      <td>audi</td>\n",
       "      <td>a4</td>\n",
       "      <td>1.8</td>\n",
       "      <td>1999</td>\n",
       "      <td>4</td>\n",
       "      <td>manual(m5)</td>\n",
       "      <td>f</td>\n",
       "      <td>21</td>\n",
       "      <td>29</td>\n",
       "      <td>p</td>\n",
       "      <td>compact</td>\n",
       "    </tr>\n",
       "    <tr>\n",
       "      <td>3</td>\n",
       "      <td>audi</td>\n",
       "      <td>a4</td>\n",
       "      <td>2.0</td>\n",
       "      <td>2008</td>\n",
       "      <td>4</td>\n",
       "      <td>manual(m6)</td>\n",
       "      <td>f</td>\n",
       "      <td>20</td>\n",
       "      <td>31</td>\n",
       "      <td>p</td>\n",
       "      <td>compact</td>\n",
       "    </tr>\n",
       "    <tr>\n",
       "      <td>4</td>\n",
       "      <td>audi</td>\n",
       "      <td>a4</td>\n",
       "      <td>2.0</td>\n",
       "      <td>2008</td>\n",
       "      <td>4</td>\n",
       "      <td>auto(av)</td>\n",
       "      <td>f</td>\n",
       "      <td>21</td>\n",
       "      <td>30</td>\n",
       "      <td>p</td>\n",
       "      <td>compact</td>\n",
       "    </tr>\n",
       "    <tr>\n",
       "      <td>5</td>\n",
       "      <td>audi</td>\n",
       "      <td>a4</td>\n",
       "      <td>2.8</td>\n",
       "      <td>1999</td>\n",
       "      <td>6</td>\n",
       "      <td>auto(l5)</td>\n",
       "      <td>f</td>\n",
       "      <td>16</td>\n",
       "      <td>26</td>\n",
       "      <td>p</td>\n",
       "      <td>compact</td>\n",
       "    </tr>\n",
       "  </tbody>\n",
       "</table>\n",
       "</div>"
      ],
      "text/plain": [
       "  manufacturer model  displ  year  cyl       trans drv  cty  hwy fl    class\n",
       "1         audi    a4    1.8  1999    4    auto(l5)   f   18   29  p  compact\n",
       "2         audi    a4    1.8  1999    4  manual(m5)   f   21   29  p  compact\n",
       "3         audi    a4    2.0  2008    4  manual(m6)   f   20   31  p  compact\n",
       "4         audi    a4    2.0  2008    4    auto(av)   f   21   30  p  compact\n",
       "5         audi    a4    2.8  1999    6    auto(l5)   f   16   26  p  compact"
      ]
     },
     "execution_count": 6,
     "metadata": {},
     "output_type": "execute_result"
    }
   ],
   "source": [
    "mpg.head()"
   ]
  },
  {
   "cell_type": "markdown",
   "metadata": {},
   "source": [
    "### Is there a difference in fuel-efficiency in cars from 2008 vs 1999?"
   ]
  },
  {
   "cell_type": "markdown",
   "metadata": {},
   "source": [
    "* $H_0$: There is no difference in fuel efficiency between cars from 2008 vs 1999\n",
    "* $H_a$: Cars from 2008 have a better fuel efficienct than cars from 1999"
   ]
  },
  {
   "cell_type": "code",
   "execution_count": 7,
   "metadata": {},
   "outputs": [],
   "source": [
    "mpg[\"fuel_efficiency\"] = (mpg[\"cty\"] + mpg[\"hwy\"]) / 2"
   ]
  },
  {
   "cell_type": "code",
   "execution_count": 8,
   "metadata": {},
   "outputs": [
    {
     "data": {
      "text/plain": [
       "Ttest_indResult(statistic=0.21960177245940962, pvalue=0.8263744040323578)"
      ]
     },
     "execution_count": 8,
     "metadata": {},
     "output_type": "execute_result"
    }
   ],
   "source": [
    "x1 = mpg[mpg.year == 1999].fuel_efficiency\n",
    "x2 = mpg[mpg.year == 2008].fuel_efficiency\n",
    "\n",
    "stats.ttest_ind(x1, x2)"
   ]
  },
  {
   "cell_type": "markdown",
   "metadata": {},
   "source": [
    "Because the p value (0.826) > alpha (0.05), we fail to reject the null hypothesis. \n",
    "\n",
    "This means that there is no statistical difference between cars from 1999 and 2008"
   ]
  },
  {
   "cell_type": "code",
   "execution_count": 9,
   "metadata": {},
   "outputs": [
    {
     "data": {
      "text/plain": [
       "<matplotlib.legend.Legend at 0x1a17938650>"
      ]
     },
     "execution_count": 9,
     "metadata": {},
     "output_type": "execute_result"
    },
    {
     "data": {
      "image/png": "[encoded data removed]",
      "text/plain": [
       "<Figure size 432x288 with 1 Axes>"
      ]
     },
     "metadata": {
      "needs_background": "light"
     },
     "output_type": "display_data"
    }
   ],
   "source": [
    "plt.hist([x1, x2], label=[\"1999 cars\", \"2008 cars\"])\n",
    "plt.legend(loc=\"upper right\")"
   ]
  },
  {
   "cell_type": "markdown",
   "metadata": {},
   "source": [
    "### Are compact cars more fuel-efficient than the average car?\n"
   ]
  },
  {
   "cell_type": "markdown",
   "metadata": {},
   "source": [
    "* $H_0$: There is no significant difference in fuel-efficiency between compact cars and the average car\n",
    "* $H_a$: Compact cars are on average more fuel- efficient than the average car"
   ]
  },
  {
   "cell_type": "code",
   "execution_count": 10,
   "metadata": {},
   "outputs": [
    {
     "name": "stdout",
     "output_type": "stream",
     "text": [
      "t = 7.9\n",
      "p = 0.0000000004\n"
     ]
    }
   ],
   "source": [
    "x = mpg[mpg[\"class\"] == \"compact\"].fuel_efficiency\n",
    "mu = mpg.fuel_efficiency.mean()\n",
    "\n",
    "t_stat, p = stats.ttest_1samp(x, mu)\n",
    "\n",
    "print(f't = {t_stat:.3}')\n",
    "print(f'p = {p:.10f}')"
   ]
  },
  {
   "cell_type": "code",
   "execution_count": 11,
   "metadata": {},
   "outputs": [
    {
     "data": {
      "text/plain": [
       "(24.21276595744681, 20.14957264957265)"
      ]
     },
     "execution_count": 11,
     "metadata": {},
     "output_type": "execute_result"
    }
   ],
   "source": [
    "x.mean(), mu"
   ]
  },
  {
   "cell_type": "markdown",
   "metadata": {},
   "source": [
    "The p value is below the alpha, which means we reject the null hypothesis that compact cars, on average, have the same fuel-efficiency as the average car. "
   ]
  },
  {
   "cell_type": "markdown",
   "metadata": {},
   "source": [
    "### Do manual cars get better gas mileage than automatic cars?"
   ]
  },
  {
   "cell_type": "markdown",
   "metadata": {},
   "source": [
    "* $H_0$: There is no difference in gas mileage between manual and automatic cars\n",
    "* $H_a$: There is a difference in gas mileage between manual and automatic cars"
   ]
  },
  {
   "cell_type": "code",
   "execution_count": 12,
   "metadata": {},
   "outputs": [
    {
     "name": "stdout",
     "output_type": "stream",
     "text": [
      "t = -4.593437735750014\n",
      "p = 0.000007\n"
     ]
    }
   ],
   "source": [
    "x1 = mpg[mpg.trans.str.contains(\"auto\")].fuel_efficiency\n",
    "x2 = mpg[mpg.trans.str.contains(\"manual\")].fuel_efficiency\n",
    "\n",
    "t, p = stats.ttest_ind(x1,x2)\n",
    "\n",
    "print(f\"t = {t}\")\n",
    "print(f\"p = {p:.6f}\")"
   ]
  },
  {
   "cell_type": "code",
   "execution_count": 13,
   "metadata": {},
   "outputs": [
    {
     "name": "stdout",
     "output_type": "stream",
     "text": [
      "avg fuel effienct for automatic cars: 19.1, and manual: 22.2\n"
     ]
    }
   ],
   "source": [
    "print(f\"avg fuel effienct for automatic cars: {x1.mean():.3}, and manual: {x2.mean():.3}\")"
   ]
  },
  {
   "cell_type": "markdown",
   "metadata": {},
   "source": [
    "Becasue the p value is smaller than that alpha, we can reject the null hypothesis that there is no difference between transmission and fuel efficiency. \n",
    "\n",
    "For this particular case, it seems that manual cars are significantly different, on average, than automatic cars when it comes to fuel efficiency."
   ]
  },
  {
   "cell_type": "code",
   "execution_count": 14,
   "metadata": {},
   "outputs": [
    {
     "data": {
      "text/plain": [
       "<matplotlib.legend.Legend at 0x1a18245210>"
      ]
     },
     "execution_count": 14,
     "metadata": {},
     "output_type": "execute_result"
    },
    {
     "data": {
      "image/png": "[encoded data removed]",
      "text/plain": [
       "<Figure size 432x288 with 1 Axes>"
      ]
     },
     "metadata": {
      "needs_background": "light"
     },
     "output_type": "display_data"
    }
   ],
   "source": [
    "plt.hist([x1,x2], label = [\"auto\", \"manual\"])\n",
    "plt.legend()"
   ]
  },
  {
   "cell_type": "markdown",
   "metadata": {},
   "source": [
    "What if we wanted to see if the manual cars, on average, had better fuel efficiency? "
   ]
  },
  {
   "cell_type": "code",
   "execution_count": 15,
   "metadata": {
    "scrolled": true
   },
   "outputs": [
    {
     "name": "stdout",
     "output_type": "stream",
     "text": [
      "t = 3.53\n",
      "p = 0.000703\n"
     ]
    }
   ],
   "source": [
    "x = mpg[mpg.trans.str.contains(\"manual\")].fuel_efficiency\n",
    "mu = mpg.fuel_efficiency.mean()\n",
    "\n",
    "t_stat, p = stats.ttest_1samp(x,mu)\n",
    "\n",
    "print(f\"t = {t_stat:.3}\")\n",
    "print(f\"p = {p:.3}\")"
   ]
  },
  {
   "cell_type": "markdown",
   "metadata": {},
   "source": [
    "Because the p value is still lower than alpha, we can conclude that there is infact a significant difference in fuel efficiency between manual cars and the rest."
   ]
  },
  {
   "cell_type": "markdown",
   "metadata": {},
   "source": [
    "# Correlation Exercises"
   ]
  },
  {
   "cell_type": "markdown",
   "metadata": {},
   "source": [
    "## 1.  Use the `telco_churn data`\n",
    "\n",
    "Does tenure correlate with monthly charges? "
   ]
  },
  {
   "cell_type": "code",
   "execution_count": 16,
   "metadata": {},
   "outputs": [],
   "source": [
    "from env import host, user, password\n",
    "\n",
    "url = f'mysql+pymysql://{user}:{password}@{host}/telco_churn'\n",
    "\n",
    "sql = '''\n",
    "SELECT * \n",
    "FROM customers\n",
    "'''\n",
    "\n",
    "customers = pd.read_sql(sql, url)"
   ]
  },
  {
   "cell_type": "code",
   "execution_count": 17,
   "metadata": {
    "scrolled": false
   },
   "outputs": [
    {
     "data": {
      "text/html": [
       "<div>\n",
       "<style scoped>\n",
       "    .dataframe tbody tr th:only-of-type {\n",
       "        vertical-align: middle;\n",
       "    }\n",
       "\n",
       "    .dataframe tbody tr th {\n",
       "        vertical-align: top;\n",
       "    }\n",
       "\n",
       "    .dataframe thead th {\n",
       "        text-align: right;\n",
       "    }\n",
       "</style>\n",
       "<table border=\"1\" class=\"dataframe\">\n",
       "  <thead>\n",
       "    <tr style=\"text-align: right;\">\n",
       "      <th></th>\n",
       "      <th>customer_id</th>\n",
       "      <th>gender</th>\n",
       "      <th>senior_citizen</th>\n",
       "      <th>partner</th>\n",
       "      <th>dependents</th>\n",
       "      <th>tenure</th>\n",
       "      <th>phone_service</th>\n",
       "      <th>multiple_lines</th>\n",
       "      <th>internet_service_type_id</th>\n",
       "      <th>online_security</th>\n",
       "      <th>...</th>\n",
       "      <th>device_protection</th>\n",
       "      <th>tech_support</th>\n",
       "      <th>streaming_tv</th>\n",
       "      <th>streaming_movies</th>\n",
       "      <th>contract_type_id</th>\n",
       "      <th>paperless_billing</th>\n",
       "      <th>payment_type_id</th>\n",
       "      <th>monthly_charges</th>\n",
       "      <th>total_charges</th>\n",
       "      <th>churn</th>\n",
       "    </tr>\n",
       "  </thead>\n",
       "  <tbody>\n",
       "    <tr>\n",
       "      <td>0</td>\n",
       "      <td>0002-ORFBO</td>\n",
       "      <td>Female</td>\n",
       "      <td>0</td>\n",
       "      <td>Yes</td>\n",
       "      <td>Yes</td>\n",
       "      <td>9</td>\n",
       "      <td>Yes</td>\n",
       "      <td>No</td>\n",
       "      <td>1</td>\n",
       "      <td>No</td>\n",
       "      <td>...</td>\n",
       "      <td>No</td>\n",
       "      <td>Yes</td>\n",
       "      <td>Yes</td>\n",
       "      <td>No</td>\n",
       "      <td>2</td>\n",
       "      <td>Yes</td>\n",
       "      <td>2</td>\n",
       "      <td>65.6</td>\n",
       "      <td>593.3</td>\n",
       "      <td>No</td>\n",
       "    </tr>\n",
       "    <tr>\n",
       "      <td>1</td>\n",
       "      <td>0003-MKNFE</td>\n",
       "      <td>Male</td>\n",
       "      <td>0</td>\n",
       "      <td>No</td>\n",
       "      <td>No</td>\n",
       "      <td>9</td>\n",
       "      <td>Yes</td>\n",
       "      <td>Yes</td>\n",
       "      <td>1</td>\n",
       "      <td>No</td>\n",
       "      <td>...</td>\n",
       "      <td>No</td>\n",
       "      <td>No</td>\n",
       "      <td>No</td>\n",
       "      <td>Yes</td>\n",
       "      <td>1</td>\n",
       "      <td>No</td>\n",
       "      <td>2</td>\n",
       "      <td>59.9</td>\n",
       "      <td>542.4</td>\n",
       "      <td>No</td>\n",
       "    </tr>\n",
       "    <tr>\n",
       "      <td>2</td>\n",
       "      <td>0004-TLHLJ</td>\n",
       "      <td>Male</td>\n",
       "      <td>0</td>\n",
       "      <td>No</td>\n",
       "      <td>No</td>\n",
       "      <td>4</td>\n",
       "      <td>Yes</td>\n",
       "      <td>No</td>\n",
       "      <td>2</td>\n",
       "      <td>No</td>\n",
       "      <td>...</td>\n",
       "      <td>Yes</td>\n",
       "      <td>No</td>\n",
       "      <td>No</td>\n",
       "      <td>No</td>\n",
       "      <td>1</td>\n",
       "      <td>Yes</td>\n",
       "      <td>1</td>\n",
       "      <td>73.9</td>\n",
       "      <td>280.85</td>\n",
       "      <td>Yes</td>\n",
       "    </tr>\n",
       "    <tr>\n",
       "      <td>3</td>\n",
       "      <td>0011-IGKFF</td>\n",
       "      <td>Male</td>\n",
       "      <td>1</td>\n",
       "      <td>Yes</td>\n",
       "      <td>No</td>\n",
       "      <td>13</td>\n",
       "      <td>Yes</td>\n",
       "      <td>No</td>\n",
       "      <td>2</td>\n",
       "      <td>No</td>\n",
       "      <td>...</td>\n",
       "      <td>Yes</td>\n",
       "      <td>No</td>\n",
       "      <td>Yes</td>\n",
       "      <td>Yes</td>\n",
       "      <td>1</td>\n",
       "      <td>Yes</td>\n",
       "      <td>1</td>\n",
       "      <td>98.0</td>\n",
       "      <td>1237.85</td>\n",
       "      <td>Yes</td>\n",
       "    </tr>\n",
       "    <tr>\n",
       "      <td>4</td>\n",
       "      <td>0013-EXCHZ</td>\n",
       "      <td>Female</td>\n",
       "      <td>1</td>\n",
       "      <td>Yes</td>\n",
       "      <td>No</td>\n",
       "      <td>3</td>\n",
       "      <td>Yes</td>\n",
       "      <td>No</td>\n",
       "      <td>2</td>\n",
       "      <td>No</td>\n",
       "      <td>...</td>\n",
       "      <td>No</td>\n",
       "      <td>Yes</td>\n",
       "      <td>Yes</td>\n",
       "      <td>No</td>\n",
       "      <td>1</td>\n",
       "      <td>Yes</td>\n",
       "      <td>2</td>\n",
       "      <td>83.9</td>\n",
       "      <td>267.4</td>\n",
       "      <td>Yes</td>\n",
       "    </tr>\n",
       "  </tbody>\n",
       "</table>\n",
       "<p>5 rows × 21 columns</p>\n",
       "</div>"
      ],
      "text/plain": [
       "  customer_id  gender  senior_citizen partner dependents  tenure  \\\n",
       "0  0002-ORFBO  Female               0     Yes        Yes       9   \n",
       "1  0003-MKNFE    Male               0      No         No       9   \n",
       "2  0004-TLHLJ    Male               0      No         No       4   \n",
       "3  0011-IGKFF    Male               1     Yes         No      13   \n",
       "4  0013-EXCHZ  Female               1     Yes         No       3   \n",
       "\n",
       "  phone_service multiple_lines  internet_service_type_id online_security  ...  \\\n",
       "0           Yes             No                         1              No  ...   \n",
       "1           Yes            Yes                         1              No  ...   \n",
       "2           Yes             No                         2              No  ...   \n",
       "3           Yes             No                         2              No  ...   \n",
       "4           Yes             No                         2              No  ...   \n",
       "\n",
       "  device_protection tech_support streaming_tv streaming_movies  \\\n",
       "0                No          Yes          Yes               No   \n",
       "1                No           No           No              Yes   \n",
       "2               Yes           No           No               No   \n",
       "3               Yes           No          Yes              Yes   \n",
       "4                No          Yes          Yes               No   \n",
       "\n",
       "  contract_type_id  paperless_billing payment_type_id  monthly_charges  \\\n",
       "0                2                Yes               2             65.6   \n",
       "1                1                 No               2             59.9   \n",
       "2                1                Yes               1             73.9   \n",
       "3                1                Yes               1             98.0   \n",
       "4                1                Yes               2             83.9   \n",
       "\n",
       "   total_charges churn  \n",
       "0          593.3    No  \n",
       "1          542.4    No  \n",
       "2         280.85   Yes  \n",
       "3        1237.85   Yes  \n",
       "4          267.4   Yes  \n",
       "\n",
       "[5 rows x 21 columns]"
      ]
     },
     "execution_count": 17,
     "metadata": {},
     "output_type": "execute_result"
    }
   ],
   "source": [
    "customers.head()"
   ]
  },
  {
   "cell_type": "markdown",
   "metadata": {},
   "source": [
    "* $H_0$: There is no linear corraltion between tenur and monthly charges\n",
    "* $H_0$: There is a linear correlation between tenure and monthly charges"
   ]
  },
  {
   "cell_type": "code",
   "execution_count": 18,
   "metadata": {},
   "outputs": [
    {
     "name": "stdout",
     "output_type": "stream",
     "text": [
      "corr = 0.24789985628615008\n",
      " p = 0.0000000000\n"
     ]
    }
   ],
   "source": [
    "x = customers.tenure\n",
    "y = customers.monthly_charges\n",
    "\n",
    "corr, p = stats.pearsonr(x,y)\n",
    "\n",
    "print(f\"corr = {corr}\")\n",
    "print(f\" p = {p:.10f}\")"
   ]
  },
  {
   "cell_type": "code",
   "execution_count": 19,
   "metadata": {},
   "outputs": [
    {
     "name": "stdout",
     "output_type": "stream",
     "text": [
      "\n",
      "Becasue p 4.0940449915016345e-99 is less than $\u0007lpha$ (0.05), we reject the null \n",
      "hypythesis, and assume that there a linear correlation between tenure \n",
      "and monthly charges. \n",
      "\n"
     ]
    }
   ],
   "source": [
    "print(f'''\n",
    "Becasue p {p} is less than $\\alpha$ (0.05), we reject the null \n",
    "hypythesis, and assume that there a linear correlation between tenure \n",
    "and monthly charges. \n",
    "''')\n",
    "      "
   ]
  },
  {
   "cell_type": "markdown",
   "metadata": {},
   "source": [
    "Total charges? "
   ]
  },
  {
   "cell_type": "markdown",
   "metadata": {},
   "source": [
    "* $H_0$: There is no linear correlation between total charges and tenure\n",
    "* $H_a$: There is a linear correlation between total charges and tenure"
   ]
  },
  {
   "cell_type": "code",
   "execution_count": 20,
   "metadata": {},
   "outputs": [],
   "source": [
    "# customers.total_charges.astype(np.float64)"
   ]
  },
  {
   "cell_type": "code",
   "execution_count": 21,
   "metadata": {},
   "outputs": [
    {
     "data": {
      "text/html": [
       "<div>\n",
       "<style scoped>\n",
       "    .dataframe tbody tr th:only-of-type {\n",
       "        vertical-align: middle;\n",
       "    }\n",
       "\n",
       "    .dataframe tbody tr th {\n",
       "        vertical-align: top;\n",
       "    }\n",
       "\n",
       "    .dataframe thead th {\n",
       "        text-align: right;\n",
       "    }\n",
       "</style>\n",
       "<table border=\"1\" class=\"dataframe\">\n",
       "  <thead>\n",
       "    <tr style=\"text-align: right;\">\n",
       "      <th></th>\n",
       "      <th>customer_id</th>\n",
       "      <th>gender</th>\n",
       "      <th>senior_citizen</th>\n",
       "      <th>partner</th>\n",
       "      <th>dependents</th>\n",
       "      <th>tenure</th>\n",
       "      <th>phone_service</th>\n",
       "      <th>multiple_lines</th>\n",
       "      <th>internet_service_type_id</th>\n",
       "      <th>online_security</th>\n",
       "      <th>...</th>\n",
       "      <th>device_protection</th>\n",
       "      <th>tech_support</th>\n",
       "      <th>streaming_tv</th>\n",
       "      <th>streaming_movies</th>\n",
       "      <th>contract_type_id</th>\n",
       "      <th>paperless_billing</th>\n",
       "      <th>payment_type_id</th>\n",
       "      <th>monthly_charges</th>\n",
       "      <th>total_charges</th>\n",
       "      <th>churn</th>\n",
       "    </tr>\n",
       "  </thead>\n",
       "  <tbody>\n",
       "    <tr>\n",
       "      <td>4386</td>\n",
       "      <td>6180-YBIQI</td>\n",
       "      <td>Male</td>\n",
       "      <td>0</td>\n",
       "      <td>No</td>\n",
       "      <td>No</td>\n",
       "      <td>5</td>\n",
       "      <td>No</td>\n",
       "      <td>No phone service</td>\n",
       "      <td>1</td>\n",
       "      <td>No</td>\n",
       "      <td>...</td>\n",
       "      <td>No</td>\n",
       "      <td>No</td>\n",
       "      <td>No</td>\n",
       "      <td>No</td>\n",
       "      <td>1</td>\n",
       "      <td>No</td>\n",
       "      <td>2</td>\n",
       "      <td>24.30</td>\n",
       "      <td>100.2</td>\n",
       "      <td>No</td>\n",
       "    </tr>\n",
       "    <tr>\n",
       "      <td>2222</td>\n",
       "      <td>3178-FESZO</td>\n",
       "      <td>Female</td>\n",
       "      <td>0</td>\n",
       "      <td>No</td>\n",
       "      <td>No</td>\n",
       "      <td>1</td>\n",
       "      <td>Yes</td>\n",
       "      <td>Yes</td>\n",
       "      <td>2</td>\n",
       "      <td>No</td>\n",
       "      <td>...</td>\n",
       "      <td>No</td>\n",
       "      <td>No</td>\n",
       "      <td>Yes</td>\n",
       "      <td>Yes</td>\n",
       "      <td>1</td>\n",
       "      <td>Yes</td>\n",
       "      <td>4</td>\n",
       "      <td>100.25</td>\n",
       "      <td>100.25</td>\n",
       "      <td>Yes</td>\n",
       "    </tr>\n",
       "    <tr>\n",
       "      <td>1771</td>\n",
       "      <td>2587-YNLES</td>\n",
       "      <td>Female</td>\n",
       "      <td>0</td>\n",
       "      <td>Yes</td>\n",
       "      <td>Yes</td>\n",
       "      <td>6</td>\n",
       "      <td>Yes</td>\n",
       "      <td>No</td>\n",
       "      <td>3</td>\n",
       "      <td>No internet service</td>\n",
       "      <td>...</td>\n",
       "      <td>No internet service</td>\n",
       "      <td>No internet service</td>\n",
       "      <td>No internet service</td>\n",
       "      <td>No internet service</td>\n",
       "      <td>3</td>\n",
       "      <td>No</td>\n",
       "      <td>2</td>\n",
       "      <td>20.10</td>\n",
       "      <td>100.35</td>\n",
       "      <td>No</td>\n",
       "    </tr>\n",
       "    <tr>\n",
       "      <td>5542</td>\n",
       "      <td>7802-EFKNY</td>\n",
       "      <td>Male</td>\n",
       "      <td>0</td>\n",
       "      <td>Yes</td>\n",
       "      <td>No</td>\n",
       "      <td>5</td>\n",
       "      <td>No</td>\n",
       "      <td>No phone service</td>\n",
       "      <td>1</td>\n",
       "      <td>No</td>\n",
       "      <td>...</td>\n",
       "      <td>No</td>\n",
       "      <td>No</td>\n",
       "      <td>No</td>\n",
       "      <td>No</td>\n",
       "      <td>1</td>\n",
       "      <td>Yes</td>\n",
       "      <td>1</td>\n",
       "      <td>24.95</td>\n",
       "      <td>100.4</td>\n",
       "      <td>Yes</td>\n",
       "    </tr>\n",
       "    <tr>\n",
       "      <td>5126</td>\n",
       "      <td>7216-EWTRS</td>\n",
       "      <td>Female</td>\n",
       "      <td>1</td>\n",
       "      <td>Yes</td>\n",
       "      <td>No</td>\n",
       "      <td>1</td>\n",
       "      <td>Yes</td>\n",
       "      <td>Yes</td>\n",
       "      <td>2</td>\n",
       "      <td>No</td>\n",
       "      <td>...</td>\n",
       "      <td>Yes</td>\n",
       "      <td>No</td>\n",
       "      <td>Yes</td>\n",
       "      <td>Yes</td>\n",
       "      <td>1</td>\n",
       "      <td>Yes</td>\n",
       "      <td>1</td>\n",
       "      <td>100.80</td>\n",
       "      <td>100.8</td>\n",
       "      <td>Yes</td>\n",
       "    </tr>\n",
       "    <tr>\n",
       "      <td>...</td>\n",
       "      <td>...</td>\n",
       "      <td>...</td>\n",
       "      <td>...</td>\n",
       "      <td>...</td>\n",
       "      <td>...</td>\n",
       "      <td>...</td>\n",
       "      <td>...</td>\n",
       "      <td>...</td>\n",
       "      <td>...</td>\n",
       "      <td>...</td>\n",
       "      <td>...</td>\n",
       "      <td>...</td>\n",
       "      <td>...</td>\n",
       "      <td>...</td>\n",
       "      <td>...</td>\n",
       "      <td>...</td>\n",
       "      <td>...</td>\n",
       "      <td>...</td>\n",
       "      <td>...</td>\n",
       "      <td>...</td>\n",
       "      <td>...</td>\n",
       "    </tr>\n",
       "    <tr>\n",
       "      <td>5868</td>\n",
       "      <td>8249-THVEC</td>\n",
       "      <td>Male</td>\n",
       "      <td>0</td>\n",
       "      <td>Yes</td>\n",
       "      <td>Yes</td>\n",
       "      <td>51</td>\n",
       "      <td>Yes</td>\n",
       "      <td>No</td>\n",
       "      <td>3</td>\n",
       "      <td>No internet service</td>\n",
       "      <td>...</td>\n",
       "      <td>No internet service</td>\n",
       "      <td>No internet service</td>\n",
       "      <td>No internet service</td>\n",
       "      <td>No internet service</td>\n",
       "      <td>2</td>\n",
       "      <td>No</td>\n",
       "      <td>2</td>\n",
       "      <td>19.40</td>\n",
       "      <td>997.75</td>\n",
       "      <td>No</td>\n",
       "    </tr>\n",
       "    <tr>\n",
       "      <td>4298</td>\n",
       "      <td>6051-PTVNS</td>\n",
       "      <td>Female</td>\n",
       "      <td>0</td>\n",
       "      <td>Yes</td>\n",
       "      <td>Yes</td>\n",
       "      <td>55</td>\n",
       "      <td>Yes</td>\n",
       "      <td>No</td>\n",
       "      <td>3</td>\n",
       "      <td>No internet service</td>\n",
       "      <td>...</td>\n",
       "      <td>No internet service</td>\n",
       "      <td>No internet service</td>\n",
       "      <td>No internet service</td>\n",
       "      <td>No internet service</td>\n",
       "      <td>2</td>\n",
       "      <td>No</td>\n",
       "      <td>4</td>\n",
       "      <td>19.15</td>\n",
       "      <td>998.1</td>\n",
       "      <td>No</td>\n",
       "    </tr>\n",
       "    <tr>\n",
       "      <td>4173</td>\n",
       "      <td>5899-MQZZL</td>\n",
       "      <td>Female</td>\n",
       "      <td>0</td>\n",
       "      <td>No</td>\n",
       "      <td>No</td>\n",
       "      <td>13</td>\n",
       "      <td>Yes</td>\n",
       "      <td>Yes</td>\n",
       "      <td>2</td>\n",
       "      <td>No</td>\n",
       "      <td>...</td>\n",
       "      <td>No</td>\n",
       "      <td>No</td>\n",
       "      <td>No</td>\n",
       "      <td>No</td>\n",
       "      <td>1</td>\n",
       "      <td>Yes</td>\n",
       "      <td>2</td>\n",
       "      <td>75.00</td>\n",
       "      <td>999.45</td>\n",
       "      <td>Yes</td>\n",
       "    </tr>\n",
       "    <tr>\n",
       "      <td>3162</td>\n",
       "      <td>4536-PLEQY</td>\n",
       "      <td>Male</td>\n",
       "      <td>0</td>\n",
       "      <td>Yes</td>\n",
       "      <td>No</td>\n",
       "      <td>12</td>\n",
       "      <td>Yes</td>\n",
       "      <td>No</td>\n",
       "      <td>2</td>\n",
       "      <td>No</td>\n",
       "      <td>...</td>\n",
       "      <td>No</td>\n",
       "      <td>No</td>\n",
       "      <td>No</td>\n",
       "      <td>Yes</td>\n",
       "      <td>1</td>\n",
       "      <td>Yes</td>\n",
       "      <td>4</td>\n",
       "      <td>85.05</td>\n",
       "      <td>999.8</td>\n",
       "      <td>No</td>\n",
       "    </tr>\n",
       "    <tr>\n",
       "      <td>6421</td>\n",
       "      <td>9093-FPDLG</td>\n",
       "      <td>Female</td>\n",
       "      <td>0</td>\n",
       "      <td>No</td>\n",
       "      <td>No</td>\n",
       "      <td>11</td>\n",
       "      <td>Yes</td>\n",
       "      <td>No</td>\n",
       "      <td>2</td>\n",
       "      <td>No</td>\n",
       "      <td>...</td>\n",
       "      <td>Yes</td>\n",
       "      <td>Yes</td>\n",
       "      <td>No</td>\n",
       "      <td>Yes</td>\n",
       "      <td>1</td>\n",
       "      <td>Yes</td>\n",
       "      <td>1</td>\n",
       "      <td>94.20</td>\n",
       "      <td>999.9</td>\n",
       "      <td>No</td>\n",
       "    </tr>\n",
       "  </tbody>\n",
       "</table>\n",
       "<p>7032 rows × 21 columns</p>\n",
       "</div>"
      ],
      "text/plain": [
       "     customer_id  gender  senior_citizen partner dependents  tenure  \\\n",
       "4386  6180-YBIQI    Male               0      No         No       5   \n",
       "2222  3178-FESZO  Female               0      No         No       1   \n",
       "1771  2587-YNLES  Female               0     Yes        Yes       6   \n",
       "5542  7802-EFKNY    Male               0     Yes         No       5   \n",
       "5126  7216-EWTRS  Female               1     Yes         No       1   \n",
       "...          ...     ...             ...     ...        ...     ...   \n",
       "5868  8249-THVEC    Male               0     Yes        Yes      51   \n",
       "4298  6051-PTVNS  Female               0     Yes        Yes      55   \n",
       "4173  5899-MQZZL  Female               0      No         No      13   \n",
       "3162  4536-PLEQY    Male               0     Yes         No      12   \n",
       "6421  9093-FPDLG  Female               0      No         No      11   \n",
       "\n",
       "     phone_service    multiple_lines  internet_service_type_id  \\\n",
       "4386            No  No phone service                         1   \n",
       "2222           Yes               Yes                         2   \n",
       "1771           Yes                No                         3   \n",
       "5542            No  No phone service                         1   \n",
       "5126           Yes               Yes                         2   \n",
       "...            ...               ...                       ...   \n",
       "5868           Yes                No                         3   \n",
       "4298           Yes                No                         3   \n",
       "4173           Yes               Yes                         2   \n",
       "3162           Yes                No                         2   \n",
       "6421           Yes                No                         2   \n",
       "\n",
       "          online_security  ...    device_protection         tech_support  \\\n",
       "4386                   No  ...                   No                   No   \n",
       "2222                   No  ...                   No                   No   \n",
       "1771  No internet service  ...  No internet service  No internet service   \n",
       "5542                   No  ...                   No                   No   \n",
       "5126                   No  ...                  Yes                   No   \n",
       "...                   ...  ...                  ...                  ...   \n",
       "5868  No internet service  ...  No internet service  No internet service   \n",
       "4298  No internet service  ...  No internet service  No internet service   \n",
       "4173                   No  ...                   No                   No   \n",
       "3162                   No  ...                   No                   No   \n",
       "6421                   No  ...                  Yes                  Yes   \n",
       "\n",
       "             streaming_tv     streaming_movies contract_type_id  \\\n",
       "4386                   No                   No                1   \n",
       "2222                  Yes                  Yes                1   \n",
       "1771  No internet service  No internet service                3   \n",
       "5542                   No                   No                1   \n",
       "5126                  Yes                  Yes                1   \n",
       "...                   ...                  ...              ...   \n",
       "5868  No internet service  No internet service                2   \n",
       "4298  No internet service  No internet service                2   \n",
       "4173                   No                   No                1   \n",
       "3162                   No                  Yes                1   \n",
       "6421                   No                  Yes                1   \n",
       "\n",
       "      paperless_billing payment_type_id  monthly_charges  total_charges churn  \n",
       "4386                 No               2            24.30          100.2    No  \n",
       "2222                Yes               4           100.25         100.25   Yes  \n",
       "1771                 No               2            20.10         100.35    No  \n",
       "5542                Yes               1            24.95          100.4   Yes  \n",
       "5126                Yes               1           100.80          100.8   Yes  \n",
       "...                 ...             ...              ...            ...   ...  \n",
       "5868                 No               2            19.40         997.75    No  \n",
       "4298                 No               4            19.15          998.1    No  \n",
       "4173                Yes               2            75.00         999.45   Yes  \n",
       "3162                Yes               4            85.05          999.8    No  \n",
       "6421                Yes               1            94.20          999.9    No  \n",
       "\n",
       "[7032 rows x 21 columns]"
      ]
     },
     "execution_count": 21,
     "metadata": {},
     "output_type": "execute_result"
    }
   ],
   "source": [
    "customers[customers.total_charges != ' '].sort_values(by = \"total_charges\")"
   ]
  },
  {
   "cell_type": "code",
   "execution_count": 22,
   "metadata": {},
   "outputs": [],
   "source": [
    "total_charges = customers[customers.total_charges != ' '].total_charges.astype(float)\n",
    "tenure = customers[customers.total_charges != ' '].tenure"
   ]
  },
  {
   "cell_type": "code",
   "execution_count": 23,
   "metadata": {
    "scrolled": true
   },
   "outputs": [
    {
     "name": "stdout",
     "output_type": "stream",
     "text": [
      "corr = 0.825880460933202\n",
      " p = 0.0\n"
     ]
    }
   ],
   "source": [
    "x = tenure\n",
    "y = total_charges\n",
    "\n",
    "corr, p = stats.pearsonr(x,y)\n",
    "\n",
    "print(f\"corr = {corr}\")\n",
    "print(f\" p = {p}\")"
   ]
  },
  {
   "cell_type": "markdown",
   "metadata": {},
   "source": [
    "We reject the null hypothesis - and there is actually a very high corr score, meaning this has a stronger relationship than monthly charges. "
   ]
  },
  {
   "cell_type": "markdown",
   "metadata": {},
   "source": [
    "What happens if you control for phone and internet service?"
   ]
  },
  {
   "cell_type": "markdown",
   "metadata": {},
   "source": [
    "* $H_0$: There is no difference in correlation between monthly charges and tenure when looking at controls vs joined group\n",
    "* $H_a$: There is a difference in correlation between monthly charges and tenure when looking at at controls vs joined group"
   ]
  },
  {
   "cell_type": "code",
   "execution_count": 24,
   "metadata": {},
   "outputs": [
    {
     "data": {
      "text/plain": [
       "[0       True\n",
       " 1       True\n",
       " 2       True\n",
       " 3       True\n",
       " 4       True\n",
       "         ... \n",
       " 7038    True\n",
       " 7039    True\n",
       " 7040    True\n",
       " 7041    True\n",
       " 7042    True\n",
       " Name: internet_service_type_id, Length: 7043, dtype: bool]"
      ]
     },
     "execution_count": 24,
     "metadata": {},
     "output_type": "execute_result"
    }
   ],
   "source": [
    "[customers.internet_service_type_id != 0]"
   ]
  },
  {
   "cell_type": "code",
   "execution_count": 25,
   "metadata": {},
   "outputs": [],
   "source": [
    "phone_y = customers.phone_service == \"Yes\"\n",
    "internet_y = customers.internet_service_type_id != 3\n",
    "phone_n = customers.phone_service == \"No\"\n",
    "internet_n = customers.internet_service_type_id == 3\n",
    "\n",
    "\n",
    "\n",
    "both = customers[phone_y & internet_y].monthly_charges\n",
    "both_tenure = customers[phone_y & internet_y].tenure\n",
    "\n",
    "\n",
    "phone = customers[phone_y & internet_n].monthly_charges\n",
    "internet = customers[phone_n & internet_y].monthly_charges\n",
    "tenure_phone = customers[phone_y & internet_n].tenure\n",
    "tenure_internet = customers[phone_n & internet_y].tenure"
   ]
  },
  {
   "cell_type": "code",
   "execution_count": 26,
   "metadata": {},
   "outputs": [],
   "source": [
    "# phone_y = customers.phone_service == \"Yes\"\n",
    "# internet_y = customers.internet_service_type_id != 3\n",
    "# phone_n = customers.phone_service == \"No\"\n",
    "# internet_n = customers.internet_service_type_id == 3\n",
    "\n",
    "\n",
    "\n",
    "# both = customers[phone_y & internet_y].monthly_charges\n",
    "# both_tenure = customers[phone_y & internet_y].tenure"
   ]
  },
  {
   "cell_type": "code",
   "execution_count": 27,
   "metadata": {},
   "outputs": [],
   "source": [
    "r_phone, p_phone = stats.pearsonr(phone, tenure_phone)\n",
    "r_internet, p_internet = stats.pearsonr(internet, tenure_internet)\n",
    "r_both, p_both = stats.pearsonr(both, both_tenure)"
   ]
  },
  {
   "cell_type": "code",
   "execution_count": 28,
   "metadata": {},
   "outputs": [
    {
     "data": {
      "text/plain": [
       "(3.356186955197392e-43, 4.603370347342836e-64, 0.44311476672821826)"
      ]
     },
     "execution_count": 28,
     "metadata": {},
     "output_type": "execute_result"
    }
   ],
   "source": [
    "p_phone, p_internet, r_both"
   ]
  },
  {
   "cell_type": "code",
   "execution_count": 29,
   "metadata": {
    "scrolled": true
   },
   "outputs": [
    {
     "name": "stdout",
     "output_type": "stream",
     "text": [
      "Correlation between monthly charges and tenure for phone users\n",
      "  r = 0.342, p 3.36e-43\n",
      "Correlation between monthly charges and tenure for internet users\n",
      "  r = 0.586\n",
      "Correlation between monthly charges and tenure for internet users and phone users\n",
      "  r = 0.443\n"
     ]
    }
   ],
   "source": [
    "print('Correlation between monthly charges and tenure for phone users')\n",
    "print(f'  r = {r_phone:.3f}, p {p_phone:.3}')\n",
    "print('Correlation between monthly charges and tenure for internet users')\n",
    "print(f'  r = {r_internet:.3f}')\n",
    "print('Correlation between monthly charges and tenure for internet users and phone users')\n",
    "print(f'  r = {r_both:.3f}')"
   ]
  },
  {
   "cell_type": "markdown",
   "metadata": {},
   "source": [
    "We conclude that actually our p values for phone_only users and internet_only users are lower than our alpha, which means we can reject our null hypothesis that all controls have a similar correlation"
   ]
  },
  {
   "cell_type": "markdown",
   "metadata": {},
   "source": [
    "## 2. Use the employees database.\n",
    "\n",
    "### Is there a relationship between how long an employee has been with the company and their salary?\n"
   ]
  },
  {
   "cell_type": "markdown",
   "metadata": {},
   "source": [
    "* $H_0$: There is no linear relationship between how long an employee has been with the company and their salary\n",
    "* $H_a$: There is a linear relationship between how long an employee has been with the company and their salary"
   ]
  },
  {
   "cell_type": "code",
   "execution_count": 30,
   "metadata": {},
   "outputs": [],
   "source": [
    "from env import host, user, password\n",
    "\n",
    "url = f'mysql+pymysql://{user}:{password}@{host}/employees'\n",
    "\n",
    "sql = '''\n",
    "SELECT emp_no, hire_date, salary, title\n",
    "FROM employees\n",
    "JOIN salaries USING (emp_no)\n",
    "JOIN titles USING (emp_no)\n",
    "WHERE salaries.to_date > NOW()\n",
    "'''\n",
    "\n",
    "employees = pd.read_sql(sql, url)"
   ]
  },
  {
   "cell_type": "code",
   "execution_count": 31,
   "metadata": {},
   "outputs": [],
   "source": [
    "employees.hire_date = pd.to_datetime(employees.hire_date, format=\"%Y %m %d\")"
   ]
  },
  {
   "cell_type": "code",
   "execution_count": 32,
   "metadata": {},
   "outputs": [],
   "source": [
    "curr_date = \"2020-03-25\"\n",
    "employees[\"time_since_hire\"] = datetime.strptime(curr_date, '%Y-%m-%d') - employees.hire_date"
   ]
  },
  {
   "cell_type": "code",
   "execution_count": 33,
   "metadata": {},
   "outputs": [],
   "source": [
    "employees['total_days_td'] = employees['time_since_hire'] / pd.to_timedelta(1, unit='D')"
   ]
  },
  {
   "cell_type": "code",
   "execution_count": 55,
   "metadata": {},
   "outputs": [
    {
     "data": {
      "text/html": [
       "<div>\n",
       "<style scoped>\n",
       "    .dataframe tbody tr th:only-of-type {\n",
       "        vertical-align: middle;\n",
       "    }\n",
       "\n",
       "    .dataframe tbody tr th {\n",
       "        vertical-align: top;\n",
       "    }\n",
       "\n",
       "    .dataframe thead th {\n",
       "        text-align: right;\n",
       "    }\n",
       "</style>\n",
       "<table border=\"1\" class=\"dataframe\">\n",
       "  <thead>\n",
       "    <tr style=\"text-align: right;\">\n",
       "      <th></th>\n",
       "      <th>emp_no</th>\n",
       "      <th>hire_date</th>\n",
       "      <th>salary</th>\n",
       "      <th>title</th>\n",
       "      <th>time_since_hire</th>\n",
       "      <th>total_days_td</th>\n",
       "    </tr>\n",
       "  </thead>\n",
       "  <tbody>\n",
       "    <tr>\n",
       "      <td>0</td>\n",
       "      <td>10001</td>\n",
       "      <td>1986-06-26</td>\n",
       "      <td>88958</td>\n",
       "      <td>Senior Engineer</td>\n",
       "      <td>12326 days</td>\n",
       "      <td>12326.0</td>\n",
       "    </tr>\n",
       "    <tr>\n",
       "      <td>1</td>\n",
       "      <td>10002</td>\n",
       "      <td>1985-11-21</td>\n",
       "      <td>72527</td>\n",
       "      <td>Staff</td>\n",
       "      <td>12543 days</td>\n",
       "      <td>12543.0</td>\n",
       "    </tr>\n",
       "    <tr>\n",
       "      <td>2</td>\n",
       "      <td>10003</td>\n",
       "      <td>1986-08-28</td>\n",
       "      <td>43311</td>\n",
       "      <td>Senior Engineer</td>\n",
       "      <td>12263 days</td>\n",
       "      <td>12263.0</td>\n",
       "    </tr>\n",
       "    <tr>\n",
       "      <td>3</td>\n",
       "      <td>10004</td>\n",
       "      <td>1986-12-01</td>\n",
       "      <td>74057</td>\n",
       "      <td>Engineer</td>\n",
       "      <td>12168 days</td>\n",
       "      <td>12168.0</td>\n",
       "    </tr>\n",
       "    <tr>\n",
       "      <td>4</td>\n",
       "      <td>10004</td>\n",
       "      <td>1986-12-01</td>\n",
       "      <td>74057</td>\n",
       "      <td>Senior Engineer</td>\n",
       "      <td>12168 days</td>\n",
       "      <td>12168.0</td>\n",
       "    </tr>\n",
       "  </tbody>\n",
       "</table>\n",
       "</div>"
      ],
      "text/plain": [
       "   emp_no  hire_date  salary            title time_since_hire  total_days_td\n",
       "0   10001 1986-06-26   88958  Senior Engineer      12326 days        12326.0\n",
       "1   10002 1985-11-21   72527            Staff      12543 days        12543.0\n",
       "2   10003 1986-08-28   43311  Senior Engineer      12263 days        12263.0\n",
       "3   10004 1986-12-01   74057         Engineer      12168 days        12168.0\n",
       "4   10004 1986-12-01   74057  Senior Engineer      12168 days        12168.0"
      ]
     },
     "execution_count": 55,
     "metadata": {},
     "output_type": "execute_result"
    }
   ],
   "source": [
    "employees.head()"
   ]
  },
  {
   "cell_type": "code",
   "execution_count": 34,
   "metadata": {},
   "outputs": [
    {
     "name": "stdout",
     "output_type": "stream",
     "text": [
      "corr = 0.30728190932146743\n",
      "p = 0.0\n"
     ]
    }
   ],
   "source": [
    "x = employees.total_days_td\n",
    "y = employees.salary\n",
    "\n",
    "corr, p = stats.pearsonr(x, y)\n",
    "\n",
    "print(f\"corr = {corr}\")\n",
    "print(f\"p = {p}\")"
   ]
  },
  {
   "cell_type": "markdown",
   "metadata": {},
   "source": [
    "We can conclude that becasue the p value is smaller than our alpha, there is a correlation between legnth of time at the company and salary."
   ]
  },
  {
   "cell_type": "markdown",
   "metadata": {},
   "source": [
    "### Is there a relationship between how long an employee has been with the company and the number of titles they have had?"
   ]
  },
  {
   "cell_type": "markdown",
   "metadata": {},
   "source": [
    "* $H_0$: There is no relationship between how long an employee has been with teh company and the number of titles they have had\n",
    "\n",
    "* $H_a$: There is a relationship between how long an employee has been with the company and the number of titles they have had"
   ]
  },
  {
   "cell_type": "code",
   "execution_count": 35,
   "metadata": {},
   "outputs": [
    {
     "data": {
      "text/html": [
       "<div>\n",
       "<style scoped>\n",
       "    .dataframe tbody tr th:only-of-type {\n",
       "        vertical-align: middle;\n",
       "    }\n",
       "\n",
       "    .dataframe tbody tr th {\n",
       "        vertical-align: top;\n",
       "    }\n",
       "\n",
       "    .dataframe thead th {\n",
       "        text-align: right;\n",
       "    }\n",
       "</style>\n",
       "<table border=\"1\" class=\"dataframe\">\n",
       "  <thead>\n",
       "    <tr style=\"text-align: right;\">\n",
       "      <th></th>\n",
       "      <th>title</th>\n",
       "      <th>total_days_td</th>\n",
       "    </tr>\n",
       "    <tr>\n",
       "      <th>emp_no</th>\n",
       "      <th></th>\n",
       "      <th></th>\n",
       "    </tr>\n",
       "  </thead>\n",
       "  <tbody>\n",
       "    <tr>\n",
       "      <td>10001</td>\n",
       "      <td>1</td>\n",
       "      <td>1</td>\n",
       "    </tr>\n",
       "    <tr>\n",
       "      <td>10002</td>\n",
       "      <td>1</td>\n",
       "      <td>1</td>\n",
       "    </tr>\n",
       "    <tr>\n",
       "      <td>10003</td>\n",
       "      <td>1</td>\n",
       "      <td>1</td>\n",
       "    </tr>\n",
       "    <tr>\n",
       "      <td>10004</td>\n",
       "      <td>2</td>\n",
       "      <td>2</td>\n",
       "    </tr>\n",
       "    <tr>\n",
       "      <td>10005</td>\n",
       "      <td>2</td>\n",
       "      <td>2</td>\n",
       "    </tr>\n",
       "    <tr>\n",
       "      <td>...</td>\n",
       "      <td>...</td>\n",
       "      <td>...</td>\n",
       "    </tr>\n",
       "    <tr>\n",
       "      <td>499995</td>\n",
       "      <td>1</td>\n",
       "      <td>1</td>\n",
       "    </tr>\n",
       "    <tr>\n",
       "      <td>499996</td>\n",
       "      <td>2</td>\n",
       "      <td>2</td>\n",
       "    </tr>\n",
       "    <tr>\n",
       "      <td>499997</td>\n",
       "      <td>2</td>\n",
       "      <td>2</td>\n",
       "    </tr>\n",
       "    <tr>\n",
       "      <td>499998</td>\n",
       "      <td>2</td>\n",
       "      <td>2</td>\n",
       "    </tr>\n",
       "    <tr>\n",
       "      <td>499999</td>\n",
       "      <td>1</td>\n",
       "      <td>1</td>\n",
       "    </tr>\n",
       "  </tbody>\n",
       "</table>\n",
       "<p>240124 rows × 2 columns</p>\n",
       "</div>"
      ],
      "text/plain": [
       "        title  total_days_td\n",
       "emp_no                      \n",
       "10001       1              1\n",
       "10002       1              1\n",
       "10003       1              1\n",
       "10004       2              2\n",
       "10005       2              2\n",
       "...       ...            ...\n",
       "499995      1              1\n",
       "499996      2              2\n",
       "499997      2              2\n",
       "499998      2              2\n",
       "499999      1              1\n",
       "\n",
       "[240124 rows x 2 columns]"
      ]
     },
     "execution_count": 35,
     "metadata": {},
     "output_type": "execute_result"
    }
   ],
   "source": [
    "number_titles = employees.groupby([\"emp_no\"])[[\"title\",\"total_days_td\"]].count()\n",
    "\n",
    "number_titles"
   ]
  },
  {
   "cell_type": "code",
   "execution_count": 36,
   "metadata": {},
   "outputs": [],
   "source": [
    "emp_w_titles = employees.merge(number_titles, left_on=\"emp_no\", right_on=number_titles.index, how=\"inner\")"
   ]
  },
  {
   "cell_type": "code",
   "execution_count": 37,
   "metadata": {},
   "outputs": [
    {
     "data": {
      "text/html": [
       "<div>\n",
       "<style scoped>\n",
       "    .dataframe tbody tr th:only-of-type {\n",
       "        vertical-align: middle;\n",
       "    }\n",
       "\n",
       "    .dataframe tbody tr th {\n",
       "        vertical-align: top;\n",
       "    }\n",
       "\n",
       "    .dataframe thead th {\n",
       "        text-align: right;\n",
       "    }\n",
       "</style>\n",
       "<table border=\"1\" class=\"dataframe\">\n",
       "  <thead>\n",
       "    <tr style=\"text-align: right;\">\n",
       "      <th></th>\n",
       "      <th>emp_no</th>\n",
       "      <th>total_days_td_x</th>\n",
       "      <th>title_y</th>\n",
       "    </tr>\n",
       "  </thead>\n",
       "  <tbody>\n",
       "    <tr>\n",
       "      <td>0</td>\n",
       "      <td>10001</td>\n",
       "      <td>12326.0</td>\n",
       "      <td>1</td>\n",
       "    </tr>\n",
       "    <tr>\n",
       "      <td>1</td>\n",
       "      <td>10002</td>\n",
       "      <td>12543.0</td>\n",
       "      <td>1</td>\n",
       "    </tr>\n",
       "    <tr>\n",
       "      <td>2</td>\n",
       "      <td>10003</td>\n",
       "      <td>12263.0</td>\n",
       "      <td>1</td>\n",
       "    </tr>\n",
       "    <tr>\n",
       "      <td>3</td>\n",
       "      <td>10004</td>\n",
       "      <td>12168.0</td>\n",
       "      <td>2</td>\n",
       "    </tr>\n",
       "    <tr>\n",
       "      <td>4</td>\n",
       "      <td>10004</td>\n",
       "      <td>12168.0</td>\n",
       "      <td>2</td>\n",
       "    </tr>\n",
       "  </tbody>\n",
       "</table>\n",
       "</div>"
      ],
      "text/plain": [
       "   emp_no  total_days_td_x  title_y\n",
       "0   10001          12326.0        1\n",
       "1   10002          12543.0        1\n",
       "2   10003          12263.0        1\n",
       "3   10004          12168.0        2\n",
       "4   10004          12168.0        2"
      ]
     },
     "execution_count": 37,
     "metadata": {},
     "output_type": "execute_result"
    }
   ],
   "source": [
    "short_df = emp_w_titles[[\"emp_no\", \"total_days_td_x\", \"title_y\"]]\n",
    "short_df.head()"
   ]
  },
  {
   "cell_type": "code",
   "execution_count": 38,
   "metadata": {},
   "outputs": [
    {
     "name": "stderr",
     "output_type": "stream",
     "text": [
      "/usr/local/anaconda3/lib/python3.7/site-packages/ipykernel_launcher.py:1: SettingWithCopyWarning: \n",
      "A value is trying to be set on a copy of a slice from a DataFrame\n",
      "\n",
      "See the caveats in the documentation: http://pandas.pydata.org/pandas-docs/stable/user_guide/indexing.html#returning-a-view-versus-a-copy\n",
      "  \"\"\"Entry point for launching an IPython kernel.\n"
     ]
    },
    {
     "data": {
      "text/html": [
       "<div>\n",
       "<style scoped>\n",
       "    .dataframe tbody tr th:only-of-type {\n",
       "        vertical-align: middle;\n",
       "    }\n",
       "\n",
       "    .dataframe tbody tr th {\n",
       "        vertical-align: top;\n",
       "    }\n",
       "\n",
       "    .dataframe thead th {\n",
       "        text-align: right;\n",
       "    }\n",
       "</style>\n",
       "<table border=\"1\" class=\"dataframe\">\n",
       "  <thead>\n",
       "    <tr style=\"text-align: right;\">\n",
       "      <th></th>\n",
       "      <th>emp_no</th>\n",
       "      <th>total_days_td_x</th>\n",
       "      <th>title_y</th>\n",
       "    </tr>\n",
       "  </thead>\n",
       "  <tbody>\n",
       "    <tr>\n",
       "      <td>0</td>\n",
       "      <td>10001</td>\n",
       "      <td>12326.0</td>\n",
       "      <td>1</td>\n",
       "    </tr>\n",
       "    <tr>\n",
       "      <td>1</td>\n",
       "      <td>10002</td>\n",
       "      <td>12543.0</td>\n",
       "      <td>1</td>\n",
       "    </tr>\n",
       "    <tr>\n",
       "      <td>2</td>\n",
       "      <td>10003</td>\n",
       "      <td>12263.0</td>\n",
       "      <td>1</td>\n",
       "    </tr>\n",
       "    <tr>\n",
       "      <td>3</td>\n",
       "      <td>10004</td>\n",
       "      <td>12168.0</td>\n",
       "      <td>2</td>\n",
       "    </tr>\n",
       "    <tr>\n",
       "      <td>5</td>\n",
       "      <td>10005</td>\n",
       "      <td>11152.0</td>\n",
       "      <td>2</td>\n",
       "    </tr>\n",
       "    <tr>\n",
       "      <td>...</td>\n",
       "      <td>...</td>\n",
       "      <td>...</td>\n",
       "      <td>...</td>\n",
       "    </tr>\n",
       "    <tr>\n",
       "      <td>371235</td>\n",
       "      <td>499995</td>\n",
       "      <td>9934.0</td>\n",
       "      <td>1</td>\n",
       "    </tr>\n",
       "    <tr>\n",
       "      <td>371236</td>\n",
       "      <td>499996</td>\n",
       "      <td>10772.0</td>\n",
       "      <td>2</td>\n",
       "    </tr>\n",
       "    <tr>\n",
       "      <td>371238</td>\n",
       "      <td>499997</td>\n",
       "      <td>12392.0</td>\n",
       "      <td>2</td>\n",
       "    </tr>\n",
       "    <tr>\n",
       "      <td>371240</td>\n",
       "      <td>499998</td>\n",
       "      <td>9660.0</td>\n",
       "      <td>2</td>\n",
       "    </tr>\n",
       "    <tr>\n",
       "      <td>371242</td>\n",
       "      <td>499999</td>\n",
       "      <td>8151.0</td>\n",
       "      <td>1</td>\n",
       "    </tr>\n",
       "  </tbody>\n",
       "</table>\n",
       "<p>240124 rows × 3 columns</p>\n",
       "</div>"
      ],
      "text/plain": [
       "        emp_no  total_days_td_x  title_y\n",
       "0        10001          12326.0        1\n",
       "1        10002          12543.0        1\n",
       "2        10003          12263.0        1\n",
       "3        10004          12168.0        2\n",
       "5        10005          11152.0        2\n",
       "...        ...              ...      ...\n",
       "371235  499995           9934.0        1\n",
       "371236  499996          10772.0        2\n",
       "371238  499997          12392.0        2\n",
       "371240  499998           9660.0        2\n",
       "371242  499999           8151.0        1\n",
       "\n",
       "[240124 rows x 3 columns]"
      ]
     },
     "execution_count": 38,
     "metadata": {},
     "output_type": "execute_result"
    }
   ],
   "source": [
    "short_df.drop_duplicates(subset=\"emp_no\", keep=\"first\", inplace = True)\n",
    "\n",
    "short_df"
   ]
  },
  {
   "cell_type": "code",
   "execution_count": 39,
   "metadata": {},
   "outputs": [
    {
     "data": {
      "text/plain": [
       "(0.2871267889699718, 0.0)"
      ]
     },
     "execution_count": 39,
     "metadata": {},
     "output_type": "execute_result"
    }
   ],
   "source": [
    "x = short_df.total_days_td_x\n",
    "y = short_df.title_y\n",
    "\n",
    "corr, p = stats.pearsonr(x,y)\n",
    "\n",
    "corr, p"
   ]
  },
  {
   "cell_type": "code",
   "execution_count": 40,
   "metadata": {},
   "outputs": [
    {
     "data": {
      "text/plain": [
       "<matplotlib.axes._subplots.AxesSubplot at 0x1a18d5b1d0>"
      ]
     },
     "execution_count": 40,
     "metadata": {},
     "output_type": "execute_result"
    },
    {
     "data": {
      "image/png": "[encoded data removed]",
      "text/plain": [
       "<Figure size 432x288 with 1 Axes>"
      ]
     },
     "metadata": {
      "needs_background": "light"
     },
     "output_type": "display_data"
    }
   ],
   "source": [
    "short_df.plot.scatter(x=\"title_y\", y=\"total_days_td_x\")"
   ]
  },
  {
   "cell_type": "markdown",
   "metadata": {},
   "source": [
    "Because our p value is 0, we can reject the null hypothesis. However, because our correlation is relatively weak, we know that there isn't a super strong correlation between both groups. Our p value is low probable more due to the fact that we have such a large number of rows (over 200K)."
   ]
  },
  {
   "cell_type": "markdown",
   "metadata": {},
   "source": [
    "## # 3. Use the sleepstudy data. Is there a relationship between days and reaction time?"
   ]
  },
  {
   "cell_type": "markdown",
   "metadata": {},
   "source": [
    "* $H_0$: There is not linear relatioship between number of days without sleep and reaction time\n",
    "\n",
    "* $H_a$: There is a linear relatioship between number of days without sleep and reaction time"
   ]
  },
  {
   "cell_type": "code",
   "execution_count": 41,
   "metadata": {},
   "outputs": [],
   "source": [
    "sleep = data('sleepstudy')"
   ]
  },
  {
   "cell_type": "code",
   "execution_count": 42,
   "metadata": {},
   "outputs": [
    {
     "data": {
      "text/html": [
       "<div>\n",
       "<style scoped>\n",
       "    .dataframe tbody tr th:only-of-type {\n",
       "        vertical-align: middle;\n",
       "    }\n",
       "\n",
       "    .dataframe tbody tr th {\n",
       "        vertical-align: top;\n",
       "    }\n",
       "\n",
       "    .dataframe thead th {\n",
       "        text-align: right;\n",
       "    }\n",
       "</style>\n",
       "<table border=\"1\" class=\"dataframe\">\n",
       "  <thead>\n",
       "    <tr style=\"text-align: right;\">\n",
       "      <th></th>\n",
       "      <th>Reaction</th>\n",
       "      <th>Days</th>\n",
       "      <th>Subject</th>\n",
       "    </tr>\n",
       "  </thead>\n",
       "  <tbody>\n",
       "    <tr>\n",
       "      <td>1</td>\n",
       "      <td>249.5600</td>\n",
       "      <td>0</td>\n",
       "      <td>308</td>\n",
       "    </tr>\n",
       "    <tr>\n",
       "      <td>2</td>\n",
       "      <td>258.7047</td>\n",
       "      <td>1</td>\n",
       "      <td>308</td>\n",
       "    </tr>\n",
       "    <tr>\n",
       "      <td>3</td>\n",
       "      <td>250.8006</td>\n",
       "      <td>2</td>\n",
       "      <td>308</td>\n",
       "    </tr>\n",
       "    <tr>\n",
       "      <td>4</td>\n",
       "      <td>321.4398</td>\n",
       "      <td>3</td>\n",
       "      <td>308</td>\n",
       "    </tr>\n",
       "    <tr>\n",
       "      <td>5</td>\n",
       "      <td>356.8519</td>\n",
       "      <td>4</td>\n",
       "      <td>308</td>\n",
       "    </tr>\n",
       "  </tbody>\n",
       "</table>\n",
       "</div>"
      ],
      "text/plain": [
       "   Reaction  Days  Subject\n",
       "1  249.5600     0      308\n",
       "2  258.7047     1      308\n",
       "3  250.8006     2      308\n",
       "4  321.4398     3      308\n",
       "5  356.8519     4      308"
      ]
     },
     "execution_count": 42,
     "metadata": {},
     "output_type": "execute_result"
    }
   ],
   "source": [
    "sleep.head()"
   ]
  },
  {
   "cell_type": "code",
   "execution_count": 43,
   "metadata": {},
   "outputs": [
    {
     "name": "stdout",
     "output_type": "stream",
     "text": [
      "corr = 0.5352302262650253\n",
      "p = 9.8941e-15\n"
     ]
    }
   ],
   "source": [
    "x = sleep[\"Reaction\"]\n",
    "y = sleep[\"Days\"]\n",
    "\n",
    "corr, p = stats.pearsonr(x,y)\n",
    "\n",
    "print(f\"corr = {corr}\")\n",
    "print(f\"p = {p:.5}\")"
   ]
  },
  {
   "cell_type": "markdown",
   "metadata": {},
   "source": [
    "We can reject the null hypothesis, and can conclude that there is a linear correlation between number of days without sleep and the reaction time. "
   ]
  },
  {
   "cell_type": "code",
   "execution_count": 57,
   "metadata": {},
   "outputs": [
    {
     "data": {
      "text/plain": [
       "<matplotlib.axes._subplots.AxesSubplot at 0x1a1f0ce950>"
      ]
     },
     "execution_count": 57,
     "metadata": {},
     "output_type": "execute_result"
    },
    {
     "data": {
      "image/png": "[encoded data removed]",
      "text/plain": [
       "<Figure size 432x288 with 1 Axes>"
      ]
     },
     "metadata": {
      "needs_background": "light"
     },
     "output_type": "display_data"
    }
   ],
   "source": [
    "sleep.plot.scatter(\"Days\", \"Reaction\")"
   ]
  },
  {
   "cell_type": "markdown",
   "metadata": {},
   "source": [
    "# Questions: \n",
    "\n",
    "1. What do we mean by \"control\"?\n",
    "1. Is a correlation closer to 1 or -1 better?\n",
    "1. For number of titles - why do I have a p value of zero?"
   ]
  }
 ],
 "metadata": {
  "kernelspec": {
   "display_name": "Python 3",
   "language": "python",
   "name": "python3"
  },
  "language_info": {
   "codemirror_mode": {
    "name": "ipython",
    "version": 3
   },
   "file_extension": ".py",
   "mimetype": "text/x-python",
   "name": "python",
   "nbconvert_exporter": "python",
   "pygments_lexer": "ipython3",
   "version": "3.7.4"
  }
 },
 "nbformat": 4,
 "nbformat_minor": 2
}
