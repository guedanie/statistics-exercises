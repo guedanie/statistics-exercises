{
 "cells": [
  {
   "cell_type": "code",
   "execution_count": 1,
   "metadata": {},
   "outputs": [],
   "source": [
    "from math import sqrt\n",
    "from scipy import stats\n",
    "from pydataset import data\n",
    "\n",
    "%matplotlib inline\n",
    "import matplotlib.pyplot as plt\n",
    "import numpy as np\n",
    "import pandas as pd\n",
    "# import viz # curriculum visualization examples\n",
    "from math import sqrt"
   ]
  },
  {
   "cell_type": "markdown",
   "metadata": {},
   "source": [
    "# Hypothesis Testing\n",
    "\n",
    "For each of the following questions, formulate a null and alternative hypothesis (be as specific as you can be), then give an example of what a true positive, true negative, type I and type II errors would look like. Note that some of the questions are intentionally phrased in a vague way. It is your job to reword these as more precise questions that could be tested."
   ]
  },
  {
   "cell_type": "markdown",
   "metadata": {},
   "source": [
    "## Has the network latency gone up since we switched internet service providers?\n",
    "\n",
    "Many people have likely heard the term latency being used before but what is latency exactly? In terms of network latency, this can be defined by the time it takes for a request to travel from the sender to the receiver and for the receiver to process that request. In other words, the round trip time from the browser to the server. It is obviously desired for this time to remain as close to 0 as possible, however, there can be a few things at play preventing your website latency times to remain low.\n",
    "\n",
    "data sources: \n",
    "* Measure time it take to send data\n",
    "* Measure time it takes website to load\n",
    "* Measure the Rount Trip Time (RTT)\n",
    "* Measure the Time to First Byte (TTFB)\n",
    "    * $H_0$: The TTFB is the same since we switched internet service providers\n",
    "    * $H_a$: The TTFB is lower (closer to 0) since we switched internt service providers\n",
    "    \n",
    "- True Negative:\n",
    "    - high p- value\n",
    "    - fail to reject $H_0$\n",
    "    - old provider TTFB == new provider TTFB\n",
    "- False Negative:\n",
    "    - high p-value\n",
    "    - fail to reject $H_0$\n",
    "    - old provider TTFB == new provider TTFB\n",
    "    - but really we might be pinging only some of the routers, causing us to get false information\n",
    "- True Positive:\n",
    "    - low p-value\n",
    "    - reject $H_0$\n",
    "    - new provider TTFB == 0.5\n",
    "    - old provider TTFB == 1.0\n",
    "- False Positive:\n",
    "    - low p-value\n",
    "    - reject $H_0$\n",
    "    - new provider TTFB == 0.5\n",
    "    - old provider TTFB == 1.0\n",
    "    - we might be looking at a small sample, and when we look at the avg over multiple trials it actually turns out there is no difference."
   ]
  },
  {
   "cell_type": "markdown",
   "metadata": {},
   "source": [
    "## Is the website redesign any good?\n",
    "\n",
    "data sources:\n",
    "* customer servey\n",
    "* SEO optimization rankings\n",
    "* google trends\n",
    "* sales impact\n",
    "* click-through rates / number of visitors\n",
    "    * $H_0$: There has been no chance in the number of visitors since the website redesign \n",
    "    * $H_a$: There is a higher number of website vistors since the website redisgn\n",
    "    \n",
    "- True Negative: \n",
    "    * high p-value\n",
    "    * we accept the $H_0$\n",
    "    * website vistors before redisign == website vistors after redesign\n",
    "- False Negative:\n",
    "    * high p-value\n",
    "    * accept the $H_0$\n",
    "    * The data could include figures from other countries where the redesign hasn't taken place, and this is boosting the number of visitors prior to the redesign\n",
    "    * We might not be allowing enough time marketing to annouce the new redesigns\n",
    "- True Positive:\n",
    "    * Low p-value\n",
    "    * reject $H_0$\n",
    "    * vistors after website redesign -> 150,000\n",
    "    * visitors before website redesign -> 100,000\n",
    "- False positive: \n",
    "    * low p-value\n",
    "    * reject $H_0$\n",
    "    * vistors after website redesign -> 150,000\n",
    "    * visitors before website redesign -> 100,000\n",
    "    * Website visits could be boosted by a sales promotions, and once the promotion ends, visits decrease \n",
    "    \n",
    "\n"
   ]
  },
  {
   "cell_type": "markdown",
   "metadata": {},
   "source": [
    "## Is our television ad driving more sales?\n",
    "\n",
    "data sources:\n",
    "* sales before and after ad\n",
    "* google trends\n",
    "* store footfall\n",
    "* website visitors\n",
    "* recall survey\n",
    "    * $H_0$: There is no difference in survey responses between customers that recall the ad, versus customers that didn't recall the ad\n",
    "    * $H_a$: Customers that recall the ad were more likely to say they would buy the product\n",
    "    \n",
    "- True Negative: \n",
    "    * high p-value\n",
    "    * fail to reject $H_0$\n",
    "    * \\# of people willing to buy our product and recall ad == \\# of people willing to buy our product and don't recall ad\n",
    "    \n",
    "- False Negative:\n",
    "    * high p-value\n",
    "    * fail to reject $H_0$\n",
    "    * There could be observer bias, where customers are equally likely to say they will buy the product, but this might not necesarly reflect their actual behavior\n",
    "    \n",
    "- True positive:\n",
    "    * low p-value\n",
    "    * reject $H_0$\n",
    "    * \\# of customers willing to buy our product and recall ad == 20\n",
    "    * \\# of customers willing to buy our product and don't recall ad == 10\n",
    "    \n",
    "- False positive:\n",
    "    * low p-value\n",
    "    * reject $H_0$\n",
    "    * undercoverage biase - we might have only sample a portion of the population that that watches TV, and we are not considering what customers that don't watch TV are thinking"
   ]
  },
  {
   "cell_type": "markdown",
   "metadata": {},
   "source": [
    "# Exercise 2: T - Test"
   ]
  },
  {
   "cell_type": "markdown",
   "metadata": {},
   "source": [
    "## Question 1:\n",
    "\n",
    "Ace Realty wants to determine whether the average time it takes to sell homes is different for its two offices. A sample of 40 sales from office #1 revealed a mean of 90 days and a standard deviation of 15 days. A sample of 50 sales from office #2 revealed a mean of 100 days and a standard deviation of 20 days. Use a .05 level of significance."
   ]
  },
  {
   "cell_type": "markdown",
   "metadata": {},
   "source": [
    "* $H_0$: There is no difference in the average of time it takes to sell homes between the two offices in Ace Realty\n",
    "* $H_a$: There is a difference in the average of time it takes to sell homes between the two offices\n",
    "\n",
    "Data sources: \n",
    "   * Internal sales data"
   ]
  },
  {
   "cell_type": "code",
   "execution_count": 19,
   "metadata": {},
   "outputs": [
    {
     "data": {
      "text/plain": [
       "(-2.6252287036468456, 0.01020985244923939)"
      ]
     },
     "execution_count": 19,
     "metadata": {},
     "output_type": "execute_result"
    }
   ],
   "source": [
    "# Office 1:\n",
    "\n",
    "xbar1 = 90\n",
    "s1 = 15\n",
    "n1 = 40\n",
    "\n",
    "# office 2:\n",
    "\n",
    "xbar2 = 100\n",
    "s2 = 20\n",
    "n2 = 50\n",
    "\n",
    "degf = (n1 + n2) - 2\n",
    "\n",
    "s_p = sqrt(\n",
    "    ((n1 - 1) * s1**2 + (n2 - 1) * s2**2)\n",
    "    /\n",
    "    (n1 + n2 - 2)\n",
    ")\n",
    "\n",
    "t = (xbar1 - xbar2) / (s_p * sqrt(1 / n1 + 1 / n2))\n",
    "\n",
    "p = stats.t(degf).cdf(t) * 2\n",
    "\n",
    "t, p"
   ]
  },
  {
   "cell_type": "code",
   "execution_count": 16,
   "metadata": {},
   "outputs": [],
   "source": [
    "t, p = stats.ttest_ind_from_stats(xbar1, s1, n1, xbar2, s2, n2)"
   ]
  },
  {
   "cell_type": "code",
   "execution_count": 18,
   "metadata": {
    "scrolled": true
   },
   "outputs": [
    {
     "name": "stdout",
     "output_type": "stream",
     "text": [
      "\n",
      "Becasue p (0.010210) < alpha (0.05), we reject the null hypothesis, meaning that there is a significant difference in average time to sell a home between the two branches\n"
     ]
    }
   ],
   "source": [
    "alpha = 0.05\n",
    "\n",
    "print(f'''\n",
    "Becasue p ({p:.6f}) < alpha ({alpha}), we reject the null hypothesis, meaning that there is a significant difference in average time to sell a home between the two branches''')"
   ]
  },
  {
   "cell_type": "markdown",
   "metadata": {},
   "source": [
    "## Question 2.\n",
    "Load the mpg dataset and use it to answer the following questions:"
   ]
  },
  {
   "cell_type": "code",
   "execution_count": 4,
   "metadata": {},
   "outputs": [],
   "source": [
    "mpg = data('mpg')"
   ]
  },
  {
   "cell_type": "code",
   "execution_count": 5,
   "metadata": {},
   "outputs": [
    {
     "data": {
      "text/html": [
       "<div>\n",
       "<style scoped>\n",
       "    .dataframe tbody tr th:only-of-type {\n",
       "        vertical-align: middle;\n",
       "    }\n",
       "\n",
       "    .dataframe tbody tr th {\n",
       "        vertical-align: top;\n",
       "    }\n",
       "\n",
       "    .dataframe thead th {\n",
       "        text-align: right;\n",
       "    }\n",
       "</style>\n",
       "<table border=\"1\" class=\"dataframe\">\n",
       "  <thead>\n",
       "    <tr style=\"text-align: right;\">\n",
       "      <th></th>\n",
       "      <th>manufacturer</th>\n",
       "      <th>model</th>\n",
       "      <th>displ</th>\n",
       "      <th>year</th>\n",
       "      <th>cyl</th>\n",
       "      <th>trans</th>\n",
       "      <th>drv</th>\n",
       "      <th>cty</th>\n",
       "      <th>hwy</th>\n",
       "      <th>fl</th>\n",
       "      <th>class</th>\n",
       "    </tr>\n",
       "  </thead>\n",
       "  <tbody>\n",
       "    <tr>\n",
       "      <td>1</td>\n",
       "      <td>audi</td>\n",
       "      <td>a4</td>\n",
       "      <td>1.8</td>\n",
       "      <td>1999</td>\n",
       "      <td>4</td>\n",
       "      <td>auto(l5)</td>\n",
       "      <td>f</td>\n",
       "      <td>18</td>\n",
       "      <td>29</td>\n",
       "      <td>p</td>\n",
       "      <td>compact</td>\n",
       "    </tr>\n",
       "    <tr>\n",
       "      <td>2</td>\n",
       "      <td>audi</td>\n",
       "      <td>a4</td>\n",
       "      <td>1.8</td>\n",
       "      <td>1999</td>\n",
       "      <td>4</td>\n",
       "      <td>manual(m5)</td>\n",
       "      <td>f</td>\n",
       "      <td>21</td>\n",
       "      <td>29</td>\n",
       "      <td>p</td>\n",
       "      <td>compact</td>\n",
       "    </tr>\n",
       "    <tr>\n",
       "      <td>3</td>\n",
       "      <td>audi</td>\n",
       "      <td>a4</td>\n",
       "      <td>2.0</td>\n",
       "      <td>2008</td>\n",
       "      <td>4</td>\n",
       "      <td>manual(m6)</td>\n",
       "      <td>f</td>\n",
       "      <td>20</td>\n",
       "      <td>31</td>\n",
       "      <td>p</td>\n",
       "      <td>compact</td>\n",
       "    </tr>\n",
       "    <tr>\n",
       "      <td>4</td>\n",
       "      <td>audi</td>\n",
       "      <td>a4</td>\n",
       "      <td>2.0</td>\n",
       "      <td>2008</td>\n",
       "      <td>4</td>\n",
       "      <td>auto(av)</td>\n",
       "      <td>f</td>\n",
       "      <td>21</td>\n",
       "      <td>30</td>\n",
       "      <td>p</td>\n",
       "      <td>compact</td>\n",
       "    </tr>\n",
       "    <tr>\n",
       "      <td>5</td>\n",
       "      <td>audi</td>\n",
       "      <td>a4</td>\n",
       "      <td>2.8</td>\n",
       "      <td>1999</td>\n",
       "      <td>6</td>\n",
       "      <td>auto(l5)</td>\n",
       "      <td>f</td>\n",
       "      <td>16</td>\n",
       "      <td>26</td>\n",
       "      <td>p</td>\n",
       "      <td>compact</td>\n",
       "    </tr>\n",
       "  </tbody>\n",
       "</table>\n",
       "</div>"
      ],
      "text/plain": [
       "  manufacturer model  displ  year  cyl       trans drv  cty  hwy fl    class\n",
       "1         audi    a4    1.8  1999    4    auto(l5)   f   18   29  p  compact\n",
       "2         audi    a4    1.8  1999    4  manual(m5)   f   21   29  p  compact\n",
       "3         audi    a4    2.0  2008    4  manual(m6)   f   20   31  p  compact\n",
       "4         audi    a4    2.0  2008    4    auto(av)   f   21   30  p  compact\n",
       "5         audi    a4    2.8  1999    6    auto(l5)   f   16   26  p  compact"
      ]
     },
     "execution_count": 5,
     "metadata": {},
     "output_type": "execute_result"
    }
   ],
   "source": [
    "mpg.head()"
   ]
  },
  {
   "cell_type": "markdown",
   "metadata": {},
   "source": [
    "### Is there a difference in fuel-efficiency in cars from 2008 vs 1999?"
   ]
  },
  {
   "cell_type": "markdown",
   "metadata": {},
   "source": [
    "* $H_0$: There is no difference in fuel efficiency between cars from 2008 vs 1999\n",
    "* $H_a$: Cars from 2008 have a better fuel efficienct than cars from 1999"
   ]
  },
  {
   "cell_type": "code",
   "execution_count": 6,
   "metadata": {},
   "outputs": [],
   "source": [
    "mpg[\"fuel_efficiency\"] = (mpg[\"cty\"] + mpg[\"hwy\"]) / 2"
   ]
  },
  {
   "cell_type": "code",
   "execution_count": 7,
   "metadata": {},
   "outputs": [
    {
     "data": {
      "text/plain": [
       "Ttest_indResult(statistic=0.21960177245940962, pvalue=0.8263744040323578)"
      ]
     },
     "execution_count": 7,
     "metadata": {},
     "output_type": "execute_result"
    }
   ],
   "source": [
    "x1 = mpg[mpg.year == 1999].fuel_efficiency\n",
    "x2 = mpg[mpg.year == 2008].fuel_efficiency\n",
    "\n",
    "stats.ttest_ind(x1, x2)"
   ]
  },
  {
   "cell_type": "markdown",
   "metadata": {},
   "source": [
    "Because the p value (0.826) > alpha (0.05), we fail to reject the null hypothesis. \n",
    "\n",
    "This means that there is no statistical difference between cars from 1999 and 2008"
   ]
  },
  {
   "cell_type": "code",
   "execution_count": 23,
   "metadata": {},
   "outputs": [
    {
     "data": {
      "text/plain": [
       "<matplotlib.legend.Legend at 0x1a1d97cb90>"
      ]
     },
     "execution_count": 23,
     "metadata": {},
     "output_type": "execute_result"
    },
    {
     "data": {
      "image/png": "[encoded data removed]",
      "text/plain": [
       "<Figure size 432x288 with 1 Axes>"
      ]
     },
     "metadata": {
      "needs_background": "light"
     },
     "output_type": "display_data"
    }
   ],
   "source": [
    "plt.hist([x1, x2], label=[\"1999 cars\", \"2008 cars\"])\n",
    "plt.legend(loc=\"upper right\")"
   ]
  },
  {
   "cell_type": "markdown",
   "metadata": {},
   "source": [
    "### Are compact cars more fuel-efficient than the average car?\n"
   ]
  },
  {
   "cell_type": "markdown",
   "metadata": {},
   "source": [
    "* $H_0$: There is no significant difference in fuel-efficiency between compact cars and the average car\n",
    "* $H_a$: Compact cars are on average more fuel- efficient than the average car"
   ]
  },
  {
   "cell_type": "code",
   "execution_count": 21,
   "metadata": {},
   "outputs": [
    {
     "name": "stdout",
     "output_type": "stream",
     "text": [
      "t = 7.9\n",
      "p = 0.0000000004\n"
     ]
    }
   ],
   "source": [
    "x = mpg[mpg[\"class\"] == \"compact\"].fuel_efficiency\n",
    "mu = mpg.fuel_efficiency.mean()\n",
    "\n",
    "t_stat, p = stats.ttest_1samp(x, mu)\n",
    "\n",
    "print(f't = {t_stat:.3}')\n",
    "print(f'p = {p:.10f}')"
   ]
  },
  {
   "cell_type": "code",
   "execution_count": 9,
   "metadata": {},
   "outputs": [
    {
     "data": {
      "text/plain": [
       "(24.21276595744681, 20.14957264957265)"
      ]
     },
     "execution_count": 9,
     "metadata": {},
     "output_type": "execute_result"
    }
   ],
   "source": [
    "x.mean(), mu"
   ]
  },
  {
   "cell_type": "markdown",
   "metadata": {},
   "source": [
    "The p value is below the alpha, which means we reject the null hypothesis that compact cars, on average, have the same fuel-efficiency as the average car. "
   ]
  },
  {
   "cell_type": "markdown",
   "metadata": {},
   "source": [
    "### Do manual cars get better gas mileage than automatic cars?"
   ]
  },
  {
   "cell_type": "markdown",
   "metadata": {},
   "source": [
    "* $H_0$: There is no difference in gas mileage between manual and automatic cars\n",
    "* $H_a$: There is a difference in gas mileage between manual and automatic cars"
   ]
  },
  {
   "cell_type": "code",
   "execution_count": 25,
   "metadata": {},
   "outputs": [
    {
     "name": "stdout",
     "output_type": "stream",
     "text": [
      "t = -4.593437735750014\n",
      "p = 0.000007\n"
     ]
    }
   ],
   "source": [
    "x1 = mpg[mpg.trans.str.contains(\"auto\")].fuel_efficiency\n",
    "x2 = mpg[mpg.trans.str.contains(\"manual\")].fuel_efficiency\n",
    "\n",
    "t, p = stats.ttest_ind(x1,x2)\n",
    "\n",
    "print(f\"t = {t}\")\n",
    "print(f\"p = {p:.6f}\")"
   ]
  },
  {
   "cell_type": "code",
   "execution_count": 11,
   "metadata": {},
   "outputs": [
    {
     "name": "stdout",
     "output_type": "stream",
     "text": [
      "avg fuel effienct for automatic cars: 19.1, and manual: 22.2\n"
     ]
    }
   ],
   "source": [
    "print(f\"avg fuel effienct for automatic cars: {x1.mean():.3}, and manual: {x2.mean():.3}\")"
   ]
  },
  {
   "cell_type": "markdown",
   "metadata": {},
   "source": [
    "Becasue the p value is smaller than that alpha, we can reject the null hypothesis that there is no difference between transmission and fuel efficiency. \n",
    "\n",
    "For this particular case, it seems that manual cars are significantly different, on average, than automatic cars when it comes to fuel efficiency."
   ]
  },
  {
   "cell_type": "code",
   "execution_count": 29,
   "metadata": {},
   "outputs": [
    {
     "data": {
      "text/plain": [
       "<matplotlib.legend.Legend at 0x1a1e47c290>"
      ]
     },
     "execution_count": 29,
     "metadata": {},
     "output_type": "execute_result"
    },
    {
     "data": {
      "image/png": "[encoded data removed]",
      "text/plain": [
       "<Figure size 432x288 with 1 Axes>"
      ]
     },
     "metadata": {
      "needs_background": "light"
     },
     "output_type": "display_data"
    }
   ],
   "source": [
    "plt.hist([x1,x2], label = [\"auto\", \"manual\"])\n",
    "plt.legend()"
   ]
  },
  {
   "cell_type": "markdown",
   "metadata": {},
   "source": [
    "What if we wanted to see if the manual cars, on average, had better fuel efficiency? "
   ]
  },
  {
   "cell_type": "code",
   "execution_count": 12,
   "metadata": {},
   "outputs": [
    {
     "name": "stdout",
     "output_type": "stream",
     "text": [
      "t = 3.53\n",
      "p = 0.000703\n"
     ]
    }
   ],
   "source": [
    "x = mpg[mpg.trans.str.contains(\"manual\")].fuel_efficiency\n",
    "mu = mpg.fuel_efficiency.mean()\n",
    "\n",
    "t_stat, p = stats.ttest_1samp(x,mu)\n",
    "\n",
    "print(f\"t = {t_stat:.3}\")\n",
    "print(f\"p = {p:.3}\")"
   ]
  },
  {
   "cell_type": "markdown",
   "metadata": {},
   "source": [
    "Because the p value is still lower than alpha, we can conclude that there is infact a significant difference in fuel efficiency between manual cars and the rest."
   ]
  }
 ],
 "metadata": {
  "kernelspec": {
   "display_name": "Python 3",
   "language": "python",
   "name": "python3"
  },
  "language_info": {
   "codemirror_mode": {
    "name": "ipython",
    "version": 3
   },
   "file_extension": ".py",
   "mimetype": "text/x-python",
   "name": "python",
   "nbconvert_exporter": "python",
   "pygments_lexer": "ipython3",
   "version": "3.7.4"
  }
 },
 "nbformat": 4,
 "nbformat_minor": 2
}
